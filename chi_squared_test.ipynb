{
 "cells": [
  {
   "cell_type": "code",
   "execution_count": 1,
   "metadata": {},
   "outputs": [],
   "source": [
    "csv_path = \"/Users/neo/Documents/MODS/LL-Eval/deidentified_cell_metadata.csv\""
   ]
  },
  {
   "cell_type": "code",
   "execution_count": 2,
   "metadata": {},
   "outputs": [
    {
     "name": "stdout",
     "output_type": "stream",
     "text": [
      "   cell_id cell_type institution\n",
      "0        0       ER2        UCSF\n",
      "1        1       ER2        UCSF\n",
      "2        2       ER2        UCSF\n",
      "3        3       ER2        UCSF\n",
      "4        4       ER2        UCSF\n"
     ]
    }
   ],
   "source": [
    "# open the csv file as a pandas dataframe\n",
    "import pandas as pd\n",
    "\n",
    "df = pd.read_csv(csv_path)\n",
    "\n",
    "# print the first 5 rows of the dataframe\n",
    "print(df.head())"
   ]
  },
  {
   "cell_type": "code",
   "execution_count": 4,
   "metadata": {},
   "outputs": [
    {
     "name": "stdout",
     "output_type": "stream",
     "text": [
      "institution  MSK_mixed  MSK_normal  UCSF\n",
      "cell_type                               \n",
      "B1                 145          58   352\n",
      "B2                  23          22   197\n",
      "E1                  49          43  1176\n",
      "E4                  93          89   529\n",
      "ER1                241         229  2071\n",
      "ER2                 88          80  2232\n",
      "ER3                119         100  2595\n",
      "ER4                139         105  2649\n",
      "ER5                 99          99  1545\n",
      "ER6                133         117  1628\n",
      "L2                 234          93  3203\n",
      "L4                 105          96  1171\n",
      "M1                1003         229  2698\n",
      "M2                 233         210  2706\n",
      "M3                 192         158  3117\n",
      "M4                 165         109  2030\n",
      "M5                 200         128  2437\n",
      "M6                 154         145  1809\n",
      "MO2                147         131  1527\n",
      "PL2                145         145  1239\n",
      "PL3                160         160   161\n",
      "U1                 119          75  1105\n",
      "U4                  74          73   724\n"
     ]
    }
   ],
   "source": [
    "# calculate the contingency table where rows are unique values of cell_type and columns are unique values of institution\n",
    "contingency_table = pd.crosstab(df[\"cell_type\"], df[\"institution\"])\n",
    "\n",
    "# print the contingency table\n",
    "print(contingency_table)\n",
    "\n",
    "# save the contingency table to a csv file\n",
    "contingency_table.to_csv(\"/Users/neo/Documents/MODS/LL-Eval/deidentified_cell_contingency_table.csv\")"
   ]
  }
 ],
 "metadata": {
  "kernelspec": {
   "display_name": "HemeYolo-dev",
   "language": "python",
   "name": "python3"
  },
  "language_info": {
   "codemirror_mode": {
    "name": "ipython",
    "version": 3
   },
   "file_extension": ".py",
   "mimetype": "text/x-python",
   "name": "python",
   "nbconvert_exporter": "python",
   "pygments_lexer": "ipython3",
   "version": "3.8.10"
  }
 },
 "nbformat": 4,
 "nbformat_minor": 2
}
