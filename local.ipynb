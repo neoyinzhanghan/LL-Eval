{
 "cells": [
  {
   "cell_type": "code",
   "execution_count": 6,
   "metadata": {},
   "outputs": [
    {
     "data": {
      "text/plain": [
       "'/Users/neo/Documents/MODS/LL-Eval/error_message_mapping.csv'"
      ]
     },
     "execution_count": 6,
     "metadata": {},
     "output_type": "execute_result"
    }
   ],
   "source": [
    "import pandas as pd\n",
    "import matplotlib.pyplot as plt\n",
    "import seaborn as sns\n",
    "\n",
    "# Load the provided CSV file\n",
    "file_path = '/Users/neo/Documents/MODS/LL-Eval/pipeline_error_df.csv'\n",
    "df = pd.read_csv(file_path)\n",
    "\n",
    "# Convert all error messages to strings before applying the grouping\n",
    "df['error_message_grouped'] = df['error_message'].astype(str).apply(\n",
    "    lambda x: 'Too few focus regions found.' if x.startswith('Too few focus regions found.') else x\n",
    ")\n",
    "\n",
    "# Recalculate counts based on the grouped messages\n",
    "error_counts_grouped = df['error_message_grouped'].value_counts()\n",
    "\n",
    "# Create a mapping of pseudo labels to the grouped error messages\n",
    "pseudo_labels_grouped = [f\"Error {i+1}\" for i in range(len(error_counts_grouped))]\n",
    "error_mapping = pd.DataFrame({\n",
    "    'Pseudo_Label': pseudo_labels_grouped,\n",
    "    'Error_Message': error_counts_grouped.index\n",
    "})\n",
    "\n",
    "# Save the mapping to a CSV file\n",
    "output_path = '/Users/neo/Documents/MODS/LL-Eval/error_message_mapping.csv'\n",
    "error_mapping.to_csv(output_path, index=False)\n",
    "\n",
    "# Create a bar plot with seaborn using pastel colors\n",
    "sns.set(style=\"whitegrid\", palette=\"pastel\")\n",
    "plt.figure(figsize=(10, 6))\n",
    "bar_plot = sns.barplot(\n",
    "    x=pseudo_labels_grouped,\n",
    "    y=error_counts_grouped.values,\n",
    "    palette=\"pastel\"\n",
    ")\n",
    "bar_plot.set_xlabel('Error Message')\n",
    "bar_plot.set_ylabel('Count')\n",
    "bar_plot.set_title('Count of Each Unique Error Message')\n",
    "bar_plot.set_xticklabels(bar_plot.get_xticklabels(), rotation=45, ha=\"right\")\n",
    "\n",
    "# Save the plot as an image\n",
    "plot_path = '/Users/neo/Documents/MODS/LL-Eval/error_message_plot.png'\n",
    "plt.tight_layout()\n",
    "plt.savefig(plot_path)\n",
    "\n",
    "# Display the plot in the Jupyter notebook cell\n",
    "plt.show()\n",
    "\n",
    "# Display output paths\n",
    "(output_path, plot_path)\n"
   ]
  },
  {
   "cell_type": "code",
   "execution_count": null,
   "metadata": {},
   "outputs": [],
   "source": []
  },
  {
   "cell_type": "code",
   "execution_count": null,
   "metadata": {},
   "outputs": [],
   "source": []
  }
 ],
 "metadata": {
  "kernelspec": {
   "display_name": "HemeYolo-dev",
   "language": "python",
   "name": "python3"
  },
  "language_info": {
   "codemirror_mode": {
    "name": "ipython",
    "version": 3
   },
   "file_extension": ".py",
   "mimetype": "text/x-python",
   "name": "python",
   "nbconvert_exporter": "python",
   "pygments_lexer": "ipython3",
   "version": "3.8.10"
  }
 },
 "nbformat": 4,
 "nbformat_minor": 2
}
